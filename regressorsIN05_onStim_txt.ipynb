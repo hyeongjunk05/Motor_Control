{
  "nbformat": 4,
  "nbformat_minor": 0,
  "metadata": {
    "colab": {
      "name": "regressorsIN05_onStim_txt.ipynb",
      "provenance": [],
      "authorship_tag": "ABX9TyNxo8ymbJSR3D8Z1Mo1DE/E",
      "include_colab_link": true
    },
    "kernelspec": {
      "name": "python3",
      "display_name": "Python 3"
    },
    "language_info": {
      "name": "python"
    }
  },
  "cells": [
    {
      "cell_type": "markdown",
      "metadata": {
        "id": "view-in-github",
        "colab_type": "text"
      },
      "source": [
        "<a href=\"https://colab.research.google.com/github/hyeongjunk05/Motor_Control/blob/main/regressorsIN05_onStim_txt.ipynb\" target=\"_parent\"><img src=\"https://colab.research.google.com/assets/colab-badge.svg\" alt=\"Open In Colab\"/></a>"
      ]
    },
    {
      "cell_type": "code",
      "execution_count": 1,
      "metadata": {
        "colab": {
          "base_uri": "https://localhost:8080/"
        },
        "id": "WBSgvEazvtiR",
        "outputId": "1d778aee-267b-48e6-d303-d12634d84b60"
      },
      "outputs": [
        {
          "output_type": "stream",
          "name": "stdout",
          "text": [
            "<class 'list'>\n",
            "108\n"
          ]
        }
      ],
      "source": [
        "dim = \"4.01 8.01 12.03 20.04 26.05 30.07 34.07 40.09 46.11 56.12 64.13 68.14 74.15 78.16 86.17 90.19 96.21 100.21 104.23 108.24 114.25 118.27 122.27 128.29 132.30 142.31 150.31 154.33 158.34 162.35 168.36 172.37 178.39 184.39 188.40 192.42 196.44 200.46 204.46 208.47 214.48 218.49 222.49 228.50 236.50 242.52 248.53 256.54 260.54 264.56 268.57 276.59 280.60 284.60 292.61 298.62 308.64 312.64 316.65 320.67 324.68 328.69 332.69 336.71 346.74 354.75 358.75 364.76 370.78 374.78 380.80 384.82 392.83 396.84 406.86 410.87 416.88 422.88 426.90 432.92 436.93 440.94 444.96 450.97 456.98 460.99 465.00 469.01 473.02 481.03 485.04 497.05 503.06 517.08 521.09 525.11 529.12 533.12 539.15 543.15 547.16 553.17 557.18 563.19 567.21 573.21 585.23 591.25\"\n",
        "pp = dim.split(' ')\n",
        "print(type(pp))\n",
        "dim = len(pp)\n",
        "print(dim)\n",
        "# print('Hello, world!')"
      ]
    }
  ]
}